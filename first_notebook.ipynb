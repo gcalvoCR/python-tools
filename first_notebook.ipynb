{
 "cells": [
  {
   "cell_type": "markdown",
   "id": "40fa30ad",
   "metadata": {},
   "source": [
    "# This is an example of a hupyter notebook\n",
    "\n",
    "The idea is to start implementing scripts using them to see the steps involved in them\n"
   ]
  },
  {
   "cell_type": "code",
   "execution_count": 4,
   "id": "6e696e24",
   "metadata": {},
   "outputs": [],
   "source": [
    "from datetime import date"
   ]
  },
  {
   "cell_type": "markdown",
   "id": "0ac24585",
   "metadata": {},
   "source": [
    "## Main piece of code"
   ]
  },
  {
   "cell_type": "code",
   "execution_count": 1,
   "id": "0129c9d0",
   "metadata": {},
   "outputs": [
    {
     "name": "stdout",
     "output_type": "stream",
     "text": [
      "What's your name: Leyla\n"
     ]
    }
   ],
   "source": [
    "name = input(\"What's your name: \")"
   ]
  },
  {
   "cell_type": "code",
   "execution_count": 2,
   "id": "e15415e7",
   "metadata": {},
   "outputs": [
    {
     "name": "stdout",
     "output_type": "stream",
     "text": [
      "How old are you? 32\n"
     ]
    }
   ],
   "source": [
    "age = int(input(\"How old are you? \"))"
   ]
  },
  {
   "cell_type": "markdown",
   "id": "ca696eed",
   "metadata": {},
   "source": [
    "### We get the current year"
   ]
  },
  {
   "cell_type": "code",
   "execution_count": 5,
   "id": "4c81bb8d",
   "metadata": {},
   "outputs": [],
   "source": [
    "current_year = date.today().year"
   ]
  },
  {
   "cell_type": "code",
   "execution_count": 9,
   "id": "e3fa8bad",
   "metadata": {},
   "outputs": [
    {
     "name": "stdout",
     "output_type": "stream",
     "text": [
      "That's great Leyla, that means you have where born in either 1990, or 1989\n"
     ]
    }
   ],
   "source": [
    "print(f\"That's great {name}, that means you have where born in either {current_year - age}, or {current_year - age - 1}\")"
   ]
  },
  {
   "cell_type": "markdown",
   "id": "0a5a56f3",
   "metadata": {},
   "source": [
    "---"
   ]
  },
  {
   "cell_type": "code",
   "execution_count": null,
   "id": "2d3a9ae0",
   "metadata": {},
   "outputs": [],
   "source": []
  }
 ],
 "metadata": {
  "kernelspec": {
   "display_name": "Python 3 (ipykernel)",
   "language": "python",
   "name": "python3"
  },
  "language_info": {
   "codemirror_mode": {
    "name": "ipython",
    "version": 3
   },
   "file_extension": ".py",
   "mimetype": "text/x-python",
   "name": "python",
   "nbconvert_exporter": "python",
   "pygments_lexer": "ipython3",
   "version": "3.8.10"
  }
 },
 "nbformat": 4,
 "nbformat_minor": 5
}